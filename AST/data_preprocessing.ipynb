{
 "cells": [
  {
   "cell_type": "code",
   "execution_count": null,
   "metadata": {},
   "outputs": [],
   "source": [
    "#1 comment removal [DONE]\n",
    "#Comments are neglected by AST modules"
   ]
  },
  {
   "cell_type": "code",
   "execution_count": null,
   "metadata": {},
   "outputs": [],
   "source": [
    "#2 delimiter removal [DONE]\n",
    "# delimiter (semicolon and newline) are neglected by AST modules"
   ]
  },
  {
   "cell_type": "code",
   "execution_count": null,
   "metadata": {},
   "outputs": [],
   "source": [
    "#3 string constant removal [WIP]\n",
    "# long unreasonable strings and print are removed\n",
    "def find_str(code_line):\n",
    "    code_line=code_line.replace(\"\\'\",\"\\\"\")\n",
    "    startIndex1 = code_line.find('\\\"')\n",
    "    if startIndex1 != -1:\n",
    "            endIndex1 = code_line.find('\\\"', startIndex1 + 1)\n",
    "            if startIndex1 != -1 and endIndex1 != -1:\n",
    "                return endIndex1-startIndex1-1\n",
    "    return None\n",
    "\n",
    "def remove_string(code_str):\n",
    "    result=[]\n",
    "    for i in code_str.split(\"\\n\"):\n",
    "        if \"print\" not in i and not (find_str(i)!=None and \"Empty\" not in i and find_str(i)>10):\n",
    "            result.append(i+'\\n')\n",
    "    return ''.join(result[:-1])"
   ]
  },
  {
   "cell_type": "code",
   "execution_count": null,
   "metadata": {},
   "outputs": [],
   "source": [
    "#4 import statemenet removal [Done]\n",
    "def remove_import(code_str):\n",
    "    result=[i+'\\n' for i in code_str.split(\"\\n\") if \"import\" not in i]\n",
    "    return ''.join(result[:-1])"
   ]
  },
  {
   "cell_type": "code",
   "execution_count": null,
   "metadata": {},
   "outputs": [],
   "source": [
    "#5 number and variable name removal [TODO]\n",
    "# this removal can be realized in \"AST key infomration extraction\" part by turning numbers and variables into constant"
   ]
  }
 ],
 "metadata": {
  "kernelspec": {
   "display_name": "Python 3.9.6 64-bit",
   "language": "python",
   "name": "python3"
  },
  "language_info": {
   "name": "python",
   "version": "3.9.6"
  },
  "orig_nbformat": 4,
  "vscode": {
   "interpreter": {
    "hash": "31f2aee4e71d21fbe5cf8b01ff0e069b9275f58929596ceb00d14d90e3e16cd6"
   }
  }
 },
 "nbformat": 4,
 "nbformat_minor": 2
}
