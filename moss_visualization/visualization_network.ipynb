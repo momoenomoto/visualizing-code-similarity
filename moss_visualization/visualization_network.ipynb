{
 "cells": [
  {
   "cell_type": "code",
   "execution_count": 41,
   "metadata": {},
   "outputs": [],
   "source": [
    "import networkx as nx\n",
    "import matplotlib.pyplot as plt\n",
    "import requests\n",
    "from bs4 import BeautifulSoup"
   ]
  },
  {
   "cell_type": "code",
   "execution_count": 42,
   "metadata": {},
   "outputs": [],
   "source": [
    "url = \"http://moss.stanford.edu/results/4/3958402826424\"\n",
    "res = requests.get(url)\n",
    "dom = BeautifulSoup(res.text)"
   ]
  },
  {
   "cell_type": "code",
   "execution_count": 60,
   "metadata": {},
   "outputs": [
    {
     "data": {
      "text/plain": [
       "[['./sample_dataset/2_SingleLL.py (84%)',\n",
       "  './sample_dataset/4_SingleLL.py (91%)'],\n",
       " ['./sample_dataset/1_SingleLL.py (99%)',\n",
       "  './sample_dataset/3_SingleLL.py (99%)'],\n",
       " ['./sample_dataset/3_SingleLL.py (92%)',\n",
       "  './sample_dataset/5_SingleLL.py (93%)'],\n",
       " ['./sample_dataset/1_SingleLL.py (92%)',\n",
       "  './sample_dataset/5_SingleLL.py (93%)'],\n",
       " ['./sample_dataset/8_SingleLL.py (80%)',\n",
       "  './sample_dataset/9_SingleLL.py (79%)']]"
      ]
     },
     "execution_count": 60,
     "metadata": {},
     "output_type": "execute_result"
    }
   ],
   "source": [
    "rows = dom.select('table tr')  #table\n",
    "# print(rows)\n",
    "row_data = []\n",
    "for row in rows:\n",
    "    data = row.select('td')\n",
    "    if data:\n",
    "        row_data.append([data[0].text.strip(), data[1].text.strip()])\n",
    "row_data[:5]"
   ]
  },
  {
   "cell_type": "code",
   "execution_count": null,
   "metadata": {},
   "outputs": [],
   "source": [
    "node_list = ['1', '2', '3', '4', '5']"
   ]
  },
  {
   "cell_type": "code",
   "execution_count": 3,
   "metadata": {},
   "outputs": [],
   "source": [
    "G = nx.Graph()"
   ]
  },
  {
   "cell_type": "code",
   "execution_count": 4,
   "metadata": {},
   "outputs": [],
   "source": [
    "G.add_nodes_from(node_list)"
   ]
  },
  {
   "cell_type": "code",
   "execution_count": 63,
   "metadata": {},
   "outputs": [],
   "source": [
    "G.add_edge('1', '2', weight=0.5)\n",
    "G.add_edge('2', '3', weight=0.1)\n",
    "G.add_edge('1', '3', weight=0.4)\n",
    "G.add_edge('4', '5', weight=0.9)\n",
    "G.add_edge('3', '5', weight=0.5)\n"
   ]
  },
  {
   "cell_type": "code",
   "execution_count": 64,
   "metadata": {},
   "outputs": [],
   "source": [
    "pos = nx.spring_layout(G, seed=0)"
   ]
  },
  {
   "cell_type": "code",
   "execution_count": 66,
   "metadata": {},
   "outputs": [
    {
     "data": {
      "image/png": "[encoded data removed]",
      "text/plain": [
       "<Figure size 432x288 with 1 Axes>"
      ]
     },
     "metadata": {},
     "output_type": "display_data"
    }
   ],
   "source": [
    "fig = plt.figure()\n",
    "\n",
    "# draw nodes\n",
    "nx.draw_networkx_nodes(G, pos, node_size=500)\n",
    "\n",
    "# draw labels\n",
    "labels = {}\n",
    "for node_name in node_list:\n",
    "    labels[str(node_name)] =str(node_name)\n",
    "nx.draw_networkx_labels(G,pos,labels,font_size=16)\n",
    "\n",
    "# determine edge weights\n",
    "all_weights = []\n",
    "for (node1,node2,data) in G.edges(data=True):\n",
    "    all_weights.append(data['weight'])\n",
    "unique_weights = list(set(all_weights))\n",
    "\n",
    "# draw edge weights\n",
    "scale = 3.0\n",
    "for weight in unique_weights:\n",
    "        weighted_edges = [(node1,node2) for (node1,node2,edge_attr) in G.edges(data=True) if edge_attr['weight']==weight]\n",
    "        width = weight*len(node_list)*scale/sum(all_weights)\n",
    "        nx.draw_networkx_edges(G,pos,edgelist=weighted_edges,width=width)\n",
    "\n",
    "# draw edge labels\n",
    "# edge_labels = nx.get_edge_attributes(G, \"weight\")\n",
    "# nx.draw_networkx_edge_labels(G, pos, edge_labels)\n",
    "fig.set_facecolor(\"white\")\n",
    "plt.axis('off')\n",
    "# plt.title('')\n",
    "# plt.savefig(\"test1.png\") \n",
    "plt.show() "
   ]
  }
 ],
 "metadata": {
  "kernelspec": {
   "display_name": "Python 3.9.1 64-bit",
   "language": "python",
   "name": "python3"
  },
  "language_info": {
   "codemirror_mode": {
    "name": "ipython",
    "version": 3
   },
   "file_extension": ".py",
   "mimetype": "text/x-python",
   "name": "python",
   "nbconvert_exporter": "python",
   "pygments_lexer": "ipython3",
   "version": "3.9.1"
  },
  "orig_nbformat": 4,
  "vscode": {
   "interpreter": {
    "hash": "aee8b7b246df8f9039afb4144a1f6fd8d2ca17a180786b69acc140d282b71a49"
   }
  }
 },
 "nbformat": 4,
 "nbformat_minor": 2
}
