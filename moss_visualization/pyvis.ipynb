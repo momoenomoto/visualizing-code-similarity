{
 "cells": [
  {
   "cell_type": "code",
   "execution_count": 115,
   "metadata": {},
   "outputs": [],
   "source": [
    "from pyvis.network import Network\n",
    "import networkx as nx\n",
    "\n",
    "import matplotlib.pyplot as plt\n",
    "import requests\n",
    "from bs4 import BeautifulSoup\n",
    "import numpy\n",
    "import re"
   ]
  },
  {
   "cell_type": "code",
   "execution_count": 116,
   "metadata": {},
   "outputs": [],
   "source": [
    "url = \"http://moss.stanford.edu/results/2/8635424362468\"\n",
    "res = requests.get(url)\n",
    "dom = BeautifulSoup(res.text, 'lxml')"
   ]
  },
  {
   "cell_type": "code",
   "execution_count": 117,
   "metadata": {},
   "outputs": [],
   "source": [
    "node_name_p = r'.*/(.*)_.*'\n",
    "node_name_full_p = r'.*/(.*)\\..*'"
   ]
  },
  {
   "cell_type": "code",
   "execution_count": 118,
   "metadata": {},
   "outputs": [],
   "source": [
    "G = nx.Graph()"
   ]
  },
  {
   "cell_type": "code",
   "execution_count": 119,
   "metadata": {},
   "outputs": [],
   "source": [
    "rows = dom.select('table tr')  #table\n",
    "# print(rows)\n",
    "rows = [row.select('td') for row in rows if row.select('td')]\n",
    "# print(rows)\n",
    "row_data = []"
   ]
  },
  {
   "cell_type": "code",
   "execution_count": 120,
   "metadata": {},
   "outputs": [],
   "source": [
    "max_val = min_val = int(rows[0][2].text.strip())\n",
    "\n",
    "for data in rows: \n",
    "    if (int(data[2].text.strip()) > max_val):\n",
    "        max_val = int(data[2].text.strip())\n",
    "    elif (int(data[2].text.strip()) < min_val):\n",
    "        min_val = int(data[2].text.strip())\n",
    "\n",
    "# print(min_val)\n",
    "# print(max_val)"
   ]
  },
  {
   "cell_type": "code",
   "execution_count": 121,
   "metadata": {},
   "outputs": [],
   "source": [
    "node_size_p  = r\"\\d+(?=%)\"\n",
    "node_similarity = r\"\\(([^)]+)\\)\""
   ]
  },
  {
   "cell_type": "code",
   "execution_count": 125,
   "metadata": {},
   "outputs": [],
   "source": [
    "edge_scale = 10\n",
    "node_size = 20"
   ]
  },
  {
   "cell_type": "code",
   "execution_count": 126,
   "metadata": {},
   "outputs": [],
   "source": [
    "for data in rows:\n",
    "    # print(data)\n",
    "    node1 = re.search(node_name_full_p, data[0].text.strip())[1]\n",
    "    # print(node1)\n",
    "    node2 = re.search(node_name_full_p, data[1].text.strip())[1]\n",
    "    # print(node2)\n",
    "    node1_similarity = re.search(node_similarity, data[0].text.strip())[1]\n",
    "    node2_similarity = re.search(node_similarity, data[1].text.strip())[1]\n",
    "\n",
    "    G.add_node(node1, title=node1, size=node_size)\n",
    "    G.add_node(node2, title=node2, size=node_size)\n",
    "    weight = numpy.interp(data[2].text.strip(),[min_val,max_val],[0,1])\n",
    "    scaled_weight = weight * edge_scale\n",
    "    title_weight = str(round(weight, 3))\n",
    "    G.add_edge(node1, node2, weight=scaled_weight, title=f'{node1}: {node1_similarity}\\n{node2}: {node2_similarity}\\nLines Matched: {data[2].text.strip()}\\nWeight: {title_weight}')\n",
    "    # print(data[2].text.strip())\n",
    "    # row_data.append([data[0].text.strip(), data[1].text.strip()])\n"
   ]
  },
  {
   "cell_type": "code",
   "execution_count": 127,
   "metadata": {},
   "outputs": [],
   "source": [
    "# nt = Network('800px', '800px', select_menu=True, neighborhood_highlight=True)\n",
    "nt = Network('800px', '800px', neighborhood_highlight=True)\n",
    "# nt.toggle_physics(True)\n",
    "nt.repulsion(node_distance=200, spring_length=200)\n",
    "nt.from_nx(G)\n",
    "# nt.show_buttons(filter_=True)\n",
    "nt.show('nx.html')"
   ]
  },
  {
   "cell_type": "code",
   "execution_count": null,
   "metadata": {},
   "outputs": [],
   "source": []
  }
 ],
 "metadata": {
  "kernelspec": {
   "display_name": "Python 3.9.1 64-bit",
   "language": "python",
   "name": "python3"
  },
  "language_info": {
   "codemirror_mode": {
    "name": "ipython",
    "version": 3
   },
   "file_extension": ".py",
   "mimetype": "text/x-python",
   "name": "python",
   "nbconvert_exporter": "python",
   "pygments_lexer": "ipython3",
   "version": "3.9.1"
  },
  "orig_nbformat": 4,
  "vscode": {
   "interpreter": {
    "hash": "aee8b7b246df8f9039afb4144a1f6fd8d2ca17a180786b69acc140d282b71a49"
   }
  }
 },
 "nbformat": 4,
 "nbformat_minor": 2
}
