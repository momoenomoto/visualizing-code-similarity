{
 "cells": [
  {
   "cell_type": "code",
   "execution_count": 44,
   "metadata": {},
   "outputs": [],
   "source": [
    "\n",
    "import numpy as np\n",
    "import matplotlib.pyplot as plt\n",
    "from sklearn import manifold, datasets\n",
    "import seaborn as sns\n",
    "from sklearn.decomposition import PCA\n",
    "from sklearn.cluster import DBSCAN\n",
    "import json\n",
    "import ast\n",
    "import math\n",
    "from fnvhash import fnv1a_32"
   ]
  },
  {
   "cell_type": "code",
   "execution_count": 22,
   "metadata": {},
   "outputs": [
    {
     "name": "stdout",
     "output_type": "stream",
     "text": [
      "442\n",
      "414\n",
      "442\n",
      "402\n",
      "432\n",
      "354\n",
      "431\n",
      "379\n",
      "366\n",
      "370\n",
      "366\n",
      "371\n",
      "393\n",
      "363\n",
      "367\n",
      "344\n",
      "369\n",
      "372\n",
      "362\n",
      "498\n",
      "20\n"
     ]
    },
    {
     "data": {
      "text/plain": [
       "'\\nmax_length=max([len(i) for i in hashed_data])\\ntmp=[]\\nfor i in hashed_data:\\n    if len(i)!=max_length:\\n        tmp.append(i+[0 for i in range(max_length-len(i))])\\n    else:\\n        tmp.append(i)\\nhashed_data=tmp\\n'"
      ]
     },
     "execution_count": 22,
     "metadata": {},
     "output_type": "execute_result"
    }
   ],
   "source": [
    "f=open('ast_result1.txt','r')\n",
    "raw_data = json.loads(f.read())\n",
    "f.close()\n",
    "hashed_data=[]\n",
    "index=[]\n",
    "for i in range(1,21):\n",
    "    hashed_element = []\n",
    "    for j in range(len(raw_data[str(i)])):\n",
    "        hashed_element.append((fnv1a_32(bytes(raw_data[str(i)][j][0], encoding=\"ascii\"))+fnv1a_32(bytes(raw_data[str(i)][j][1], encoding=\"ascii\")))/5000000000)\n",
    "#    if len(hashed_element)==752:\n",
    "    hashed_data.append(hashed_element)\n",
    "\n",
    "for i in hashed_data:\n",
    "    print(len(i))\n",
    "\n",
    "min_length=min([len(i) for i in hashed_data])\n",
    "hashed_data=[i[:min_length] for i in hashed_data]\n",
    "print(len(hashed_data))\n",
    "'''\n",
    "max_length=max([len(i) for i in hashed_data])\n",
    "tmp=[]\n",
    "for i in hashed_data:\n",
    "    if len(i)!=max_length:\n",
    "        tmp.append(i+[0 for i in range(max_length-len(i))])\n",
    "    else:\n",
    "        tmp.append(i)\n",
    "hashed_data=tmp\n",
    "'''"
   ]
  },
  {
   "cell_type": "code",
   "execution_count": 67,
   "metadata": {},
   "outputs": [
    {
     "name": "stdout",
     "output_type": "stream",
     "text": [
      "<class 'dict'>\n",
      "20\n"
     ]
    }
   ],
   "source": [
    "f=open('character_list_output1.txt','r')\n",
    "raw_data = ast.literal_eval(f.read())\n",
    "f.close()\n",
    "print(type(raw_data))\n",
    "hashed_data=[]\n",
    "index=[]\n",
    "for i in range(1,21):\n",
    "#    if len(hashed_element)==752:\n",
    "    hashed_data.append([i/5 for i in raw_data[str(i)]])\n",
    "    index.append(i)\n",
    "\n",
    "min_length=min([len(i) for i in hashed_data])\n",
    "hashed_data=[i[:min_length] for i in hashed_data]\n",
    "print(len(hashed_data))"
   ]
  },
  {
   "cell_type": "code",
   "execution_count": 68,
   "metadata": {},
   "outputs": [
    {
     "name": "stderr",
     "output_type": "stream",
     "text": [
      "/Users/fengjunyan/opt/anaconda3/lib/python3.8/site-packages/sklearn/manifold/_t_sne.py:780: FutureWarning: The default initialization in TSNE will change from 'random' to 'pca' in 1.2.\n",
      "  warnings.warn(\n"
     ]
    },
    {
     "data": {
      "image/png": "[encoded data removed]",
      "text/plain": [
       "<Figure size 432x288 with 1 Axes>"
      ]
     },
     "metadata": {
      "needs_background": "light"
     },
     "output_type": "display_data"
    }
   ],
   "source": [
    "'''t-SNE'''\n",
    "m = manifold.TSNE(learning_rate=50)\n",
    "tsne_result = m.fit_transform(np.array(hashed_data))\n",
    "plt.scatter(x=tsne_result[:,0],y=tsne_result[:,1])\n",
    "for i in range(len(tsne_result)):\n",
    "    plt.text(tsne_result[i,0],tsne_result[i,1],i+1)\n",
    "\n"
   ]
  },
  {
   "cell_type": "code",
   "execution_count": 69,
   "metadata": {},
   "outputs": [
    {
     "name": "stdout",
     "output_type": "stream",
     "text": [
      "[[1, array([ 3.13126207, -0.01740423])], [2, array([2.20971096, 0.0062195 ])], [3, array([ 3.10894577, -0.07407901])], [4, array([ 1.97350508, -0.35644432])], [5, array([ 3.00822244, -0.08599484])], [6, array([-0.80069053,  1.18875229])], [7, array([0.34745883, 0.99557307])], [8, array([-0.61586687,  1.98637921])], [9, array([-0.97451412,  1.16343319])], [10, array([-1.18842595,  0.53430696])], [11, array([-1.32535694,  0.25429739])], [12, array([-0.80063761, -0.84262509])], [13, array([-1.12180107,  0.49536803])], [14, array([-0.8985638 , -1.66594957])], [15, array([-1.02072901, -1.63669712])], [16, array([-0.59705633, -0.32753449])], [17, array([-1.3215368 , -1.04702614])], [18, array([-0.41532905, -1.43618037])], [19, array([-1.61794268, -1.1938096 ])], [20, array([-1.08065443,  2.05941514])]]\n"
     ]
    },
    {
     "data": {
      "image/png": "[encoded data removed]",
      "text/plain": [
       "<Figure size 432x288 with 1 Axes>"
      ]
     },
     "metadata": {
      "needs_background": "light"
     },
     "output_type": "display_data"
    }
   ],
   "source": [
    "#PCA\n",
    "pca = PCA(n_components=2)\n",
    "pca_result = pca.fit_transform(hashed_data)\n",
    "new_result=[]\n",
    "for i in range(len(pca_result)):\n",
    "    new_result.append([index[i],pca_result[i]])\n",
    "print(new_result)\n",
    "plt.scatter(x=pca_result[:,0],y=pca_result[:,1])\n",
    "d=0\n",
    "for i in range(len(pca_result)):\n",
    "    plt.text(pca_result[i,0],pca_result[i,1],i)\n",
    "    d+=1"
   ]
  },
  {
   "cell_type": "code",
   "execution_count": 49,
   "metadata": {},
   "outputs": [
    {
     "data": {
      "text/plain": [
       "<matplotlib.collections.PathCollection at 0x7fb548be9250>"
      ]
     },
     "execution_count": 49,
     "metadata": {},
     "output_type": "execute_result"
    },
    {
     "data": {
      "image/png": "[encoded data removed]",
      "text/plain": [
       "<Figure size 432x288 with 1 Axes>"
      ]
     },
     "metadata": {
      "needs_background": "light"
     },
     "output_type": "display_data"
    }
   ],
   "source": [
    "clusterer = DBSCAN(eps=0.2, min_samples=5, metric='euclidean')\n",
    "y_pred = clusterer.fit_predict(tsne_result)\n",
    "plt.scatter(tsne_result[:, 0], tsne_result[:, 1], c=y_pred, cmap='Dark2')"
   ]
  },
  {
   "cell_type": "code",
   "execution_count": 65,
   "metadata": {},
   "outputs": [
    {
     "data": {
      "image/png": "[encoded data removed]",
      "text/plain": [
       "<Figure size 432x288 with 1 Axes>"
      ]
     },
     "metadata": {
      "needs_background": "light"
     },
     "output_type": "display_data"
    }
   ],
   "source": [
    "clusterer2 = DBSCAN(eps=0.4, min_samples=2, metric='euclidean')\n",
    "z_pred = clusterer2.fit_predict(pca_result)\n",
    "plt.scatter(pca_result[:, 0], pca_result[:, 1], c=z_pred, cmap='Dark2')\n",
    "d=0\n",
    "for i in range(len(pca_result)):\n",
    "    plt.text(pca_result[i,0],pca_result[i,1],i+1)\n",
    "    d+=1"
   ]
  },
  {
   "cell_type": "code",
   "execution_count": null,
   "metadata": {},
   "outputs": [],
   "source": []
  }
 ],
 "metadata": {
  "kernelspec": {
   "display_name": "Python 3.8.3 ('base')",
   "language": "python",
   "name": "python3"
  },
  "language_info": {
   "codemirror_mode": {
    "name": "ipython",
    "version": 3
   },
   "file_extension": ".py",
   "mimetype": "text/x-python",
   "name": "python",
   "nbconvert_exporter": "python",
   "pygments_lexer": "ipython3",
   "version": "3.8.3"
  },
  "orig_nbformat": 4,
  "vscode": {
   "interpreter": {
    "hash": "e04d4d79b43513fac756f138178033fe00f502484bd6d3b73af212d563c4c040"
   }
  }
 },
 "nbformat": 4,
 "nbformat_minor": 2
}
